{
 "cells": [
  {
   "cell_type": "code",
   "execution_count": 12,
   "id": "d5e6770c",
   "metadata": {},
   "outputs": [],
   "source": [
    "import pandas as pd"
   ]
  },
  {
   "cell_type": "code",
   "execution_count": 13,
   "id": "b25bf3db",
   "metadata": {},
   "outputs": [],
   "source": [
    "df=pd.read_csv(\"../data/stroke_prediction_test.csv\")\n",
    "names=pd.read_csv(\"../data/dummy_names.csv\")"
   ]
  },
  {
   "cell_type": "code",
   "execution_count": 14,
   "id": "cfc00494",
   "metadata": {},
   "outputs": [
    {
     "data": {
      "text/plain": [
       "(1687, 3)"
      ]
     },
     "execution_count": 14,
     "metadata": {},
     "output_type": "execute_result"
    }
   ],
   "source": [
    "\n",
    "names.shape"
   ]
  },
  {
   "cell_type": "code",
   "execution_count": 15,
   "id": "d1999dfb",
   "metadata": {},
   "outputs": [
    {
     "data": {
      "text/plain": [
       "(1687, 12)"
      ]
     },
     "execution_count": 15,
     "metadata": {},
     "output_type": "execute_result"
    }
   ],
   "source": [
    "df.shape"
   ]
  },
  {
   "cell_type": "code",
   "execution_count": 16,
   "id": "0c03dbfb",
   "metadata": {},
   "outputs": [
    {
     "data": {
      "text/plain": [
       "Index(['firstname', ' lastname', ' dob', 'Unnamed: 0', 'id', 'gender', 'age',\n",
       "       'hypertension', 'heart_disease', 'ever_married', 'work_type',\n",
       "       'Residence_type', 'avg_glucose_level', 'bmi', 'smoking_status'],\n",
       "      dtype='object')"
      ]
     },
     "execution_count": 16,
     "metadata": {},
     "output_type": "execute_result"
    }
   ],
   "source": [
    "df_dummy=pd.concat((names,df),axis=1)\n",
    "df_dummy.columns"
   ]
  },
  {
   "cell_type": "code",
   "execution_count": 17,
   "id": "498c8929",
   "metadata": {},
   "outputs": [],
   "source": [
    "df_dummy=df_dummy[['id','firstname', ' lastname', ' dob' , 'gender', 'age',\n",
    "       'hypertension', 'heart_disease', 'ever_married', 'work_type',\n",
    "       'Residence_type', 'avg_glucose_level', 'bmi', 'smoking_status']]\n"
   ]
  },
  {
   "cell_type": "code",
   "execution_count": 18,
   "id": "a79c8a3a",
   "metadata": {},
   "outputs": [],
   "source": [
    "df_dummy.to_csv(\"../data/stroke_dummy_test.csv\",index=False)"
   ]
  },
  {
   "cell_type": "code",
   "execution_count": null,
   "id": "82bcbbf0",
   "metadata": {},
   "outputs": [],
   "source": []
  }
 ],
 "metadata": {
  "kernelspec": {
   "display_name": "stroke_heart_prediction",
   "language": "python",
   "name": "stroke_heart_prediction"
  },
  "language_info": {
   "codemirror_mode": {
    "name": "ipython",
    "version": 3
   },
   "file_extension": ".py",
   "mimetype": "text/x-python",
   "name": "python",
   "nbconvert_exporter": "python",
   "pygments_lexer": "ipython3",
   "version": "3.9.7"
  }
 },
 "nbformat": 4,
 "nbformat_minor": 5
}
