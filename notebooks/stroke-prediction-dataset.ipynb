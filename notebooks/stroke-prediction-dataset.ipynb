{
 "cells": [
  {
   "cell_type": "markdown",
   "id": "89767383",
   "metadata": {},
   "source": [
    "## Imports"
   ]
  },
  {
   "cell_type": "code",
   "execution_count": 2,
   "id": "38032992",
   "metadata": {},
   "outputs": [
    {
     "data": {
      "text/html": [
       "<div>\n",
       "<style scoped>\n",
       "    .dataframe tbody tr th:only-of-type {\n",
       "        vertical-align: middle;\n",
       "    }\n",
       "\n",
       "    .dataframe tbody tr th {\n",
       "        vertical-align: top;\n",
       "    }\n",
       "\n",
       "    .dataframe thead th {\n",
       "        text-align: right;\n",
       "    }\n",
       "</style>\n",
       "<table border=\"1\" class=\"dataframe\">\n",
       "  <thead>\n",
       "    <tr style=\"text-align: right;\">\n",
       "      <th></th>\n",
       "      <th>id</th>\n",
       "      <th>gender</th>\n",
       "      <th>age</th>\n",
       "      <th>hypertension</th>\n",
       "      <th>heart_disease</th>\n",
       "      <th>ever_married</th>\n",
       "      <th>work_type</th>\n",
       "      <th>Residence_type</th>\n",
       "      <th>avg_glucose_level</th>\n",
       "      <th>bmi</th>\n",
       "      <th>smoking_status</th>\n",
       "      <th>stroke</th>\n",
       "    </tr>\n",
       "  </thead>\n",
       "  <tbody>\n",
       "    <tr>\n",
       "      <th>0</th>\n",
       "      <td>9046</td>\n",
       "      <td>Male</td>\n",
       "      <td>67.0</td>\n",
       "      <td>0</td>\n",
       "      <td>1</td>\n",
       "      <td>Yes</td>\n",
       "      <td>Private</td>\n",
       "      <td>Urban</td>\n",
       "      <td>228.69</td>\n",
       "      <td>36.6</td>\n",
       "      <td>formerly smoked</td>\n",
       "      <td>1</td>\n",
       "    </tr>\n",
       "    <tr>\n",
       "      <th>1</th>\n",
       "      <td>51676</td>\n",
       "      <td>Female</td>\n",
       "      <td>61.0</td>\n",
       "      <td>0</td>\n",
       "      <td>0</td>\n",
       "      <td>Yes</td>\n",
       "      <td>Self-employed</td>\n",
       "      <td>Rural</td>\n",
       "      <td>202.21</td>\n",
       "      <td>NaN</td>\n",
       "      <td>never smoked</td>\n",
       "      <td>1</td>\n",
       "    </tr>\n",
       "    <tr>\n",
       "      <th>2</th>\n",
       "      <td>31112</td>\n",
       "      <td>Male</td>\n",
       "      <td>80.0</td>\n",
       "      <td>0</td>\n",
       "      <td>1</td>\n",
       "      <td>Yes</td>\n",
       "      <td>Private</td>\n",
       "      <td>Rural</td>\n",
       "      <td>105.92</td>\n",
       "      <td>32.5</td>\n",
       "      <td>never smoked</td>\n",
       "      <td>1</td>\n",
       "    </tr>\n",
       "    <tr>\n",
       "      <th>3</th>\n",
       "      <td>60182</td>\n",
       "      <td>Female</td>\n",
       "      <td>49.0</td>\n",
       "      <td>0</td>\n",
       "      <td>0</td>\n",
       "      <td>Yes</td>\n",
       "      <td>Private</td>\n",
       "      <td>Urban</td>\n",
       "      <td>171.23</td>\n",
       "      <td>34.4</td>\n",
       "      <td>smokes</td>\n",
       "      <td>1</td>\n",
       "    </tr>\n",
       "    <tr>\n",
       "      <th>4</th>\n",
       "      <td>1665</td>\n",
       "      <td>Female</td>\n",
       "      <td>79.0</td>\n",
       "      <td>1</td>\n",
       "      <td>0</td>\n",
       "      <td>Yes</td>\n",
       "      <td>Self-employed</td>\n",
       "      <td>Rural</td>\n",
       "      <td>174.12</td>\n",
       "      <td>24.0</td>\n",
       "      <td>never smoked</td>\n",
       "      <td>1</td>\n",
       "    </tr>\n",
       "    <tr>\n",
       "      <th>...</th>\n",
       "      <td>...</td>\n",
       "      <td>...</td>\n",
       "      <td>...</td>\n",
       "      <td>...</td>\n",
       "      <td>...</td>\n",
       "      <td>...</td>\n",
       "      <td>...</td>\n",
       "      <td>...</td>\n",
       "      <td>...</td>\n",
       "      <td>...</td>\n",
       "      <td>...</td>\n",
       "      <td>...</td>\n",
       "    </tr>\n",
       "    <tr>\n",
       "      <th>5105</th>\n",
       "      <td>18234</td>\n",
       "      <td>Female</td>\n",
       "      <td>80.0</td>\n",
       "      <td>1</td>\n",
       "      <td>0</td>\n",
       "      <td>Yes</td>\n",
       "      <td>Private</td>\n",
       "      <td>Urban</td>\n",
       "      <td>83.75</td>\n",
       "      <td>NaN</td>\n",
       "      <td>never smoked</td>\n",
       "      <td>0</td>\n",
       "    </tr>\n",
       "    <tr>\n",
       "      <th>5106</th>\n",
       "      <td>44873</td>\n",
       "      <td>Female</td>\n",
       "      <td>81.0</td>\n",
       "      <td>0</td>\n",
       "      <td>0</td>\n",
       "      <td>Yes</td>\n",
       "      <td>Self-employed</td>\n",
       "      <td>Urban</td>\n",
       "      <td>125.20</td>\n",
       "      <td>40.0</td>\n",
       "      <td>never smoked</td>\n",
       "      <td>0</td>\n",
       "    </tr>\n",
       "    <tr>\n",
       "      <th>5107</th>\n",
       "      <td>19723</td>\n",
       "      <td>Female</td>\n",
       "      <td>35.0</td>\n",
       "      <td>0</td>\n",
       "      <td>0</td>\n",
       "      <td>Yes</td>\n",
       "      <td>Self-employed</td>\n",
       "      <td>Rural</td>\n",
       "      <td>82.99</td>\n",
       "      <td>30.6</td>\n",
       "      <td>never smoked</td>\n",
       "      <td>0</td>\n",
       "    </tr>\n",
       "    <tr>\n",
       "      <th>5108</th>\n",
       "      <td>37544</td>\n",
       "      <td>Male</td>\n",
       "      <td>51.0</td>\n",
       "      <td>0</td>\n",
       "      <td>0</td>\n",
       "      <td>Yes</td>\n",
       "      <td>Private</td>\n",
       "      <td>Rural</td>\n",
       "      <td>166.29</td>\n",
       "      <td>25.6</td>\n",
       "      <td>formerly smoked</td>\n",
       "      <td>0</td>\n",
       "    </tr>\n",
       "    <tr>\n",
       "      <th>5109</th>\n",
       "      <td>44679</td>\n",
       "      <td>Female</td>\n",
       "      <td>44.0</td>\n",
       "      <td>0</td>\n",
       "      <td>0</td>\n",
       "      <td>Yes</td>\n",
       "      <td>Govt_job</td>\n",
       "      <td>Urban</td>\n",
       "      <td>85.28</td>\n",
       "      <td>26.2</td>\n",
       "      <td>Unknown</td>\n",
       "      <td>0</td>\n",
       "    </tr>\n",
       "  </tbody>\n",
       "</table>\n",
       "<p>5110 rows × 12 columns</p>\n",
       "</div>"
      ],
      "text/plain": [
       "         id  gender   age  hypertension  heart_disease ever_married  \\\n",
       "0      9046    Male  67.0             0              1          Yes   \n",
       "1     51676  Female  61.0             0              0          Yes   \n",
       "2     31112    Male  80.0             0              1          Yes   \n",
       "3     60182  Female  49.0             0              0          Yes   \n",
       "4      1665  Female  79.0             1              0          Yes   \n",
       "...     ...     ...   ...           ...            ...          ...   \n",
       "5105  18234  Female  80.0             1              0          Yes   \n",
       "5106  44873  Female  81.0             0              0          Yes   \n",
       "5107  19723  Female  35.0             0              0          Yes   \n",
       "5108  37544    Male  51.0             0              0          Yes   \n",
       "5109  44679  Female  44.0             0              0          Yes   \n",
       "\n",
       "          work_type Residence_type  avg_glucose_level   bmi   smoking_status  \\\n",
       "0           Private          Urban             228.69  36.6  formerly smoked   \n",
       "1     Self-employed          Rural             202.21   NaN     never smoked   \n",
       "2           Private          Rural             105.92  32.5     never smoked   \n",
       "3           Private          Urban             171.23  34.4           smokes   \n",
       "4     Self-employed          Rural             174.12  24.0     never smoked   \n",
       "...             ...            ...                ...   ...              ...   \n",
       "5105        Private          Urban              83.75   NaN     never smoked   \n",
       "5106  Self-employed          Urban             125.20  40.0     never smoked   \n",
       "5107  Self-employed          Rural              82.99  30.6     never smoked   \n",
       "5108        Private          Rural             166.29  25.6  formerly smoked   \n",
       "5109       Govt_job          Urban              85.28  26.2          Unknown   \n",
       "\n",
       "      stroke  \n",
       "0          1  \n",
       "1          1  \n",
       "2          1  \n",
       "3          1  \n",
       "4          1  \n",
       "...      ...  \n",
       "5105       0  \n",
       "5106       0  \n",
       "5107       0  \n",
       "5108       0  \n",
       "5109       0  \n",
       "\n",
       "[5110 rows x 12 columns]"
      ]
     },
     "execution_count": 2,
     "metadata": {},
     "output_type": "execute_result"
    }
   ],
   "source": [
    "import pandas as pd\n",
    "import numpy as np\n",
    "import matplotlib.pyplot as plt\n",
    "from sklearn.model_selection import train_test_split\n",
    "from sklearn.impute import KNNImputer\n",
    "from sklearn.preprocessing import MinMaxScaler\n",
    "from sklearn.preprocessing import OneHotEncoder\n",
    "from sklearn.model_selection import GridSearchCV, cross_val_score, StratifiedKFold, learning_curve\n",
    "from sklearn.linear_model import LogisticRegression\n",
    "import pickle\n",
    "\n",
    "pd.options.mode.chained_assignment = None  # default='warn'\n",
    "df=pd.read_csv(\"../data/healthcare-dataset-stroke-data.csv\")"
   ]
  },
  {
   "cell_type": "markdown",
   "id": "4ca9c0df",
   "metadata": {},
   "source": [
    "## Split and format dataframe"
   ]
  },
  {
   "cell_type": "code",
   "execution_count": 7,
   "id": "d8256fc4",
   "metadata": {},
   "outputs": [],
   "source": [
    "def split_test_train(df):\n",
    "    \n",
    "    X = df.iloc[:, :-1]\n",
    "    Y = df.iloc[:, -1]\n",
    "    xtrain, xtest, ytrain, ytest = train_test_split(X, \n",
    "                                                    Y, \n",
    "                                                    random_state=43, \n",
    "                                                    test_size=0.33)\n",
    "    xtest.to_csv(\"../data/stroke_prediction_test.csv\")\n",
    "    return (xtrain,\n",
    "            xtest,\n",
    "            ytrain,\n",
    "            ytest)"
   ]
  },
  {
   "cell_type": "code",
   "execution_count": 53,
   "id": "265e7e55",
   "metadata": {},
   "outputs": [],
   "source": [
    "def reformat_work_type(df):\n",
    "    df[\"work_type\"] = df[\"work_type\"].replace(\"Self-employed\",\"Self employed\")\n",
    "    df[\"work_type\"] = df[\"work_type\"].replace(\"Govt_job\",\"Govt job\")\n",
    "    df[\"work_type\"] = df[\"work_type\"].replace(\"children\",\"Children\")\n",
    "    df[\"work_type\"] = df[\"work_type\"].replace(\"Never_worked\",\"Never worked\")\n",
    "    \n",
    "    return df"
   ]
  },
  {
   "cell_type": "code",
   "execution_count": 54,
   "id": "0275e6e6",
   "metadata": {},
   "outputs": [],
   "source": [
    "def rename_columns(df):\n",
    "    df = df.rename(columns={\"heart_disease\":\"heart disease\", \n",
    "                            \"avg_glucose_level\":\"avg glucose level\",\n",
    "                            \"ever_married\":\"ever married\",\n",
    "                            \"Residence_type\":\"residence type\",\n",
    "                            \"work_type\":\"work type\",\n",
    "                            \"smoking_status\":\"smoking status\"})\n",
    "    return df"
   ]
  },
  {
   "cell_type": "code",
   "execution_count": 55,
   "id": "f013eb65",
   "metadata": {},
   "outputs": [],
   "source": [
    "def format_df(df):\n",
    "    xtrain, xtest, ytrain, ytest = split_test_train(df)\n",
    "    xtrain = reformat_work_type(xtrain)\n",
    "    xtrain = rename_columns(xtrain)\n",
    "    return xtrain, xtest, ytrain, ytest"
   ]
  },
  {
   "cell_type": "code",
   "execution_count": 56,
   "id": "76feca7c",
   "metadata": {},
   "outputs": [],
   "source": [
    "def format_inference_df(df):\n",
    "    df = reformat_work_type(df)\n",
    "    df = rename_columns(df)\n",
    "    return df"
   ]
  },
  {
   "cell_type": "markdown",
   "id": "4bfa9822",
   "metadata": {},
   "source": [
    "## Preprocessing "
   ]
  },
  {
   "cell_type": "markdown",
   "id": "e4122141",
   "metadata": {},
   "source": [
    "### 1- Outliers and missing values"
   ]
  },
  {
   "cell_type": "code",
   "execution_count": 57,
   "id": "050fac08",
   "metadata": {},
   "outputs": [],
   "source": [
    "def remove_outliers(df):\n",
    "    upper_fence_age = df[\"age\"].mean() + 3*df[\"age\"].std()\n",
    "    lower_fence_age = df[\"age\"].mean() - 3*df[\"age\"].std()\n",
    "    \n",
    "    age_index = df[(df[\"age\"] > upper_fence_age) | (df[\"age\"] < lower_fence_age)].index.tolist()\n",
    "    \n",
    "    upper_fence_glucose = df[\"avg_glucose_level\"].mean() + 3*df[\"avg_glucose_level\"].std()\n",
    "    lower_fence_glucose = df[\"avg_glucose_level\"].mean() - 3*df[\"avg_glucose_level\"].std()\n",
    "\n",
    "    glucose_index = df[(df[\"avg_glucose_level\"] > upper_fence_glucose) | (df[\"avg_glucose_level\"] < lower_fence_glucose)].index.tolist()\n",
    "\n",
    "    upper_fence_bmi = df[\"bmi\"].mean() + 3*df[\"bmi\"].std()\n",
    "    lower_fence_bmi = df[\"bmi\"].mean() - 3*df[\"bmi\"].std()\n",
    "\n",
    "    bmi_index = df[(df[\"bmi\"] > upper_fence_bmi) | (df[\"bmi\"] < lower_fence_bmi)].index.tolist()\n",
    "    index_to_be_removed=bmi_index +age_index +glucose_index\n",
    "    \n",
    "    df=df.drop(index=index_to_be_removed)\n",
    "    return df"
   ]
  },
  {
   "cell_type": "code",
   "execution_count": 58,
   "id": "367a4169",
   "metadata": {},
   "outputs": [],
   "source": [
    "def fit_KNN_missing_values(df):\n",
    "    \n",
    "    file = \"../models/imputer_KNN.pickle\"\n",
    "    imputer = KNNImputer(n_neighbors=5)\n",
    "    imputer.fit(df[[\"bmi\"]])\n",
    "    pickle.dump(imputer,open(file, \"wb\"))\n",
    "    \n",
    "    return df"
   ]
  },
  {
   "cell_type": "code",
   "execution_count": 59,
   "id": "dbc4b609",
   "metadata": {},
   "outputs": [],
   "source": [
    "def transform_imputer(df):\n",
    "    file = \"../models/imputer_KNN.pickle\"\n",
    "    imputer = pickle.load(open(file, \"rb\"))\n",
    "    df[\"bmi\"] = imputer.transform(df[[\"bmi\"]])\n",
    "    return df"
   ]
  },
  {
   "cell_type": "markdown",
   "id": "bb75a23a",
   "metadata": {},
   "source": [
    "### 2- Feature Engineering"
   ]
  },
  {
   "cell_type": "code",
   "execution_count": 60,
   "id": "e07aa48d",
   "metadata": {},
   "outputs": [],
   "source": [
    "def preprocess_gender(df):\n",
    "    df = df.replace(\"Male\", 0)\n",
    "    df = df.replace(\"Female\", 1)\n",
    "    other_inde = df[df[\"gender\"]==\"Other\"].index\n",
    "    df = df.drop(other_inde)\n",
    "    return df,other_inde"
   ]
  },
  {
   "cell_type": "code",
   "execution_count": 61,
   "id": "836fe8d3",
   "metadata": {},
   "outputs": [],
   "source": [
    "def preprocess_ever_married(df):\n",
    "    df = df.replace(\"no\",0)\n",
    "    df = df.replace(\"yes\",1)\n",
    "    return df"
   ]
  },
  {
   "cell_type": "code",
   "execution_count": 62,
   "id": "1957d0e9",
   "metadata": {},
   "outputs": [],
   "source": [
    "def fit_scaler(df):\n",
    "    \n",
    "    cols = [\"age\",\"avg glucose level\",\"bmi\"]\n",
    "    file = \"../models/Scaler.pickle\"\n",
    "    scaler = MinMaxScaler()\n",
    "    scaler.fit(df[cols])\n",
    "    pickle.dump(scaler,open(file, \"wb\"))"
   ]
  },
  {
   "cell_type": "code",
   "execution_count": 63,
   "id": "10fee858",
   "metadata": {},
   "outputs": [],
   "source": [
    "def transfom_scaler(df):\n",
    "    \n",
    "    cols = [\"age\",\"avg glucose level\",\"bmi\"]\n",
    "    file = \"../models/Scaler.pickle\"\n",
    "    scaler = pickle.load(open(file,\"rb\"))\n",
    "    df[cols] = scaler.transform(df[cols])\n",
    "    return df"
   ]
  },
  {
   "cell_type": "code",
   "execution_count": 64,
   "id": "efe4156e",
   "metadata": {},
   "outputs": [],
   "source": [
    "def preprocess_residence(df):\n",
    "    df = df.replace(\"Urban\", 0)\n",
    "    df = df.replace(\"Rural\", 1)\n",
    "    return df"
   ]
  },
  {
   "cell_type": "code",
   "execution_count": 65,
   "id": "d5b9321a",
   "metadata": {},
   "outputs": [],
   "source": [
    "def preprocess_ever_married(df):\n",
    "    df = df.replace(\"Yes\", 0)\n",
    "    df = df.replace(\"No\", 1)\n",
    "    return df"
   ]
  },
  {
   "cell_type": "code",
   "execution_count": 66,
   "id": "5dece88f",
   "metadata": {},
   "outputs": [],
   "source": [
    "def fit_encoder(df):\n",
    "    \n",
    "    file = \"../models/OneHot.pickle\"\n",
    "    enc = OneHotEncoder(handle_unknown=\"ignore\", sparse=False)\n",
    "    enc.fit(df[[\"work type\", \"smoking status\"]])\n",
    "    \n",
    "    pickle.dump(enc,open(file, \"wb\"))"
   ]
  },
  {
   "cell_type": "code",
   "execution_count": 67,
   "id": "b06936f6",
   "metadata": {},
   "outputs": [],
   "source": [
    "def transform_encoder(df):\n",
    "    \n",
    "    file = \"../models/OneHot.pickle\"\n",
    "    enc = pickle.load(open(file, \"rb\"))\n",
    "    list_name = enc.get_feature_names_out([\"work type\", \"smoking status\"])\n",
    "    df[list_name] = enc.transform(df[[\"work type\", \"smoking status\"]])\n",
    "    df = df.drop(columns=[\"work type\", \"smoking status\"])\n",
    "    return df"
   ]
  },
  {
   "cell_type": "code",
   "execution_count": 68,
   "id": "8d20cf4a",
   "metadata": {},
   "outputs": [],
   "source": [
    "def fit_scaler_encoder(df):\n",
    "    fit_KNN_missing_values(df)\n",
    "    fit_encoder(df)\n",
    "    fit_scaler(df)\n",
    "\n",
    "def transform_scaler_encoder(df):\n",
    "    df = transform_imputer(df)\n",
    "    df = transform_encoder(df) \n",
    "    df = transfom_scaler(df)\n",
    "    return df"
   ]
  },
  {
   "cell_type": "markdown",
   "id": "01790fd0",
   "metadata": {},
   "source": [
    "### 3- Removing Ids and building model"
   ]
  },
  {
   "cell_type": "code",
   "execution_count": 69,
   "id": "12897167",
   "metadata": {},
   "outputs": [],
   "source": [
    "def store_id(df):\n",
    "    df_ids = df[\"id\"]\n",
    "    df = df.drop(columns=[\"id\"])\n",
    "    return df_ids,df"
   ]
  },
  {
   "cell_type": "code",
   "execution_count": 70,
   "id": "58e0c501",
   "metadata": {},
   "outputs": [],
   "source": [
    "def build_model(xtrain,ytrain):\n",
    "    \n",
    "    file=\"../models/classifier.pickle\"\n",
    "    kfold = StratifiedKFold(n_splits=10)\n",
    "    classifier = LogisticRegression()\n",
    "    classifier.fit(xtrain,ytrain)\n",
    "    pickle.dump(classifier,open(file, \"wb\"))"
   ]
  },
  {
   "cell_type": "markdown",
   "id": "c3e2857a",
   "metadata": {},
   "source": [
    "### 4- Creating piepline train"
   ]
  },
  {
   "cell_type": "code",
   "execution_count": 71,
   "id": "02b0d1b3",
   "metadata": {},
   "outputs": [],
   "source": [
    "def pipeline_train(df):\n",
    "    xtrain, xtest, ytrain, ytest = format_df(df)\n",
    "    fit_scaler_encoder(xtrain)\n",
    "    xtrain = transform_scaler_encoder(xtrain)\n",
    "    xtrain, ind = preprocess_gender(xtrain)\n",
    "    ytrain = ytrain.drop(index=ind)\n",
    "    xtrain = preprocess_ever_married(xtrain)\n",
    "    xtrain = preprocess_residence(xtrain) \n",
    "    ids, xtrain = store_id(xtrain)\n",
    "    return xtrain,ytrain,xtest,ytest"
   ]
  },
  {
   "cell_type": "markdown",
   "id": "c32946f0",
   "metadata": {},
   "source": [
    "### 5- Create pipeline test"
   ]
  },
  {
   "cell_type": "code",
   "execution_count": 72,
   "id": "c7bf193a",
   "metadata": {},
   "outputs": [],
   "source": [
    "def pipeline_test(df):\n",
    "    df = format_inference_df(df)\n",
    "    if df[\"bmi\"].isnull().sum() > 0:\n",
    "        df = transform_imputer(df)\n",
    "    df, ind = preprocess_gender(df)\n",
    "    df = preprocess_ever_married(df)\n",
    "    df = preprocess_residence(df)\n",
    "    df = transform_scaler_encoder(df)\n",
    "    ids, df = store_id(df)\n",
    "    return df"
   ]
  },
  {
   "cell_type": "markdown",
   "id": "a3b31eed",
   "metadata": {},
   "source": [
    "### 6- Putting everything together"
   ]
  },
  {
   "cell_type": "code",
   "execution_count": 73,
   "id": "4a620a0d",
   "metadata": {},
   "outputs": [],
   "source": [
    "def make_model_train(df):\n",
    "    xtrain,ytrain,xtest,ytest = pipeline_train(df)\n",
    "    build_model(xtrain, ytrain)\n",
    "    return xtest, ytest"
   ]
  },
  {
   "cell_type": "code",
   "execution_count": 74,
   "id": "e8d6f04e",
   "metadata": {},
   "outputs": [],
   "source": [
    "def evaluate_model(xtest,ytest):\n",
    "    xtest = pipeline_test(xtest)\n",
    "    file = \"../models/classifier.pickle\"\n",
    "    classifier = pickle.load(open(file, \"rb\"))\n",
    "    return classifier.score(xtest, ytest)"
   ]
  },
  {
   "cell_type": "code",
   "execution_count": 75,
   "id": "35e31bb7",
   "metadata": {},
   "outputs": [],
   "source": [
    "xtest,ytest = make_model_train(df)\n",
    "# evaluate_model(xtest,ytest)"
   ]
  },
  {
   "cell_type": "code",
   "execution_count": 76,
   "id": "91c465e7",
   "metadata": {},
   "outputs": [],
   "source": [
    "def make_prediction(X):\n",
    "    X = pipeline_test(X)\n",
    "    file = \"../models/classifier.pickle\"\n",
    "    classifier = pickle.load(open(file, \"rb\"))\n",
    "    return classifier.predict(X)"
   ]
  },
  {
   "cell_type": "code",
   "execution_count": 77,
   "id": "78a15ef5",
   "metadata": {},
   "outputs": [
    {
     "data": {
      "text/plain": [
       "array([0, 0, 0, ..., 0, 0, 0], dtype=int64)"
      ]
     },
     "execution_count": 77,
     "metadata": {},
     "output_type": "execute_result"
    }
   ],
   "source": [
    "make_prediction(xtest)"
   ]
  }
 ],
 "metadata": {
  "interpreter": {
   "hash": "4373f270b90ecccfda4fe2a21b65b360181de506de5f9021897b2095593032c4"
  },
  "kernelspec": {
   "display_name": "Python 3.9.10",
   "language": "python",
   "name": "python3"
  },
  "language_info": {
   "codemirror_mode": {
    "name": "ipython",
    "version": 3
   },
   "file_extension": ".py",
   "mimetype": "text/x-python",
   "name": "python",
   "nbconvert_exporter": "python",
   "pygments_lexer": "ipython3",
   "version": "3.9.10"
  }
 },
 "nbformat": 4,
 "nbformat_minor": 5
}
