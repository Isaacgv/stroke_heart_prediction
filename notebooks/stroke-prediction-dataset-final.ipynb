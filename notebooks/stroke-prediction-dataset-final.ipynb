{
 "cells": [
  {
   "cell_type": "markdown",
   "id": "97d8aae5",
   "metadata": {},
   "source": [
    "### Import"
   ]
  },
  {
   "cell_type": "code",
   "execution_count": 1,
   "id": "44ef122f",
   "metadata": {},
   "outputs": [],
   "source": [
    "import pandas as pd\n",
    "df = pd.read_csv(\"../data/healthcare-dataset-stroke-data.csv\")"
   ]
  },
  {
   "cell_type": "code",
   "execution_count": 2,
   "id": "a3526e98",
   "metadata": {},
   "outputs": [
    {
     "data": {
      "text/plain": [
       "0.9549496147006521"
      ]
     },
     "execution_count": 2,
     "metadata": {},
     "output_type": "execute_result"
    }
   ],
   "source": [
    "from stroke_prediction_packages import train\n",
    "\n",
    "train.make_model_train(df)"
   ]
  },
  {
   "cell_type": "code",
   "execution_count": 3,
   "id": "9dc1e421",
   "metadata": {},
   "outputs": [],
   "source": [
    "from stroke_prediction_packages import test"
   ]
  },
  {
   "cell_type": "code",
   "execution_count": null,
   "id": "0da4b0f8",
   "metadata": {},
   "outputs": [],
   "source": []
  }
 ],
 "metadata": {
  "kernelspec": {
   "display_name": "stroke",
   "language": "python",
   "name": "stroke"
  },
  "language_info": {
   "codemirror_mode": {
    "name": "ipython",
    "version": 3
   },
   "file_extension": ".py",
   "mimetype": "text/x-python",
   "name": "python",
   "nbconvert_exporter": "python",
   "pygments_lexer": "ipython3",
   "version": "3.9.12"
  }
 },
 "nbformat": 4,
 "nbformat_minor": 5
}
