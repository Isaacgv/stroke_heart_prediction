{
 "cells": [
  {
   "cell_type": "markdown",
   "id": "97d8aae5",
   "metadata": {},
   "source": [
    "### Import"
   ]
  },
  {
   "cell_type": "code",
   "execution_count": 1,
   "id": "ec4f16c3",
   "metadata": {},
   "outputs": [],
   "source": [
    "import sys\n",
    "sys.path.append(\"..\")"
   ]
  },
  {
   "cell_type": "code",
   "execution_count": 2,
   "id": "44ef122f",
   "metadata": {},
   "outputs": [],
   "source": [
    "from stroke_prediction import train\n",
    "from stroke_prediction import test\n",
    "import pandas as pd\n",
    "\n",
    "df = pd.read_csv(\"../data/healthcare-dataset-stroke-data.csv\")"
   ]
  },
  {
   "cell_type": "code",
   "execution_count": 3,
   "id": "1c9d4cc6",
   "metadata": {},
   "outputs": [
    {
     "data": {
      "text/plain": [
       "0.9549496147006521"
      ]
     },
     "execution_count": 3,
     "metadata": {},
     "output_type": "execute_result"
    }
   ],
   "source": [
    "train.make_model_train(df)"
   ]
  },
  {
   "cell_type": "code",
   "execution_count": 4,
   "id": "784b2a4a",
   "metadata": {},
   "outputs": [
    {
     "data": {
      "text/plain": [
       "array([0, 0, 0, ..., 0, 0, 0], dtype=int64)"
      ]
     },
     "execution_count": 4,
     "metadata": {},
     "output_type": "execute_result"
    }
   ],
   "source": [
    "test.make_prediction(df.iloc[:,:-1])"
   ]
  },
  {
   "cell_type": "markdown",
   "id": "747e950c",
   "metadata": {},
   "source": [
    "## Package Version 1"
   ]
  },
  {
   "cell_type": "code",
   "execution_count": 5,
   "id": "490190b4",
   "metadata": {},
   "outputs": [],
   "source": [
    "from stroke_prediction_packages.train import make_model_train"
   ]
  },
  {
   "cell_type": "code",
   "execution_count": 6,
   "id": "03033c63",
   "metadata": {},
   "outputs": [
    {
     "data": {
      "text/plain": [
       "0.9549496147006521"
      ]
     },
     "execution_count": 6,
     "metadata": {},
     "output_type": "execute_result"
    }
   ],
   "source": [
    "make_model_train(df)"
   ]
  },
  {
   "cell_type": "code",
   "execution_count": 7,
   "id": "7a90a8cb",
   "metadata": {},
   "outputs": [
    {
     "data": {
      "text/plain": [
       "array([0, 0, 0, ..., 0, 0, 0], dtype=int64)"
      ]
     },
     "execution_count": 7,
     "metadata": {},
     "output_type": "execute_result"
    }
   ],
   "source": [
    "from stroke_prediction_packages.test import make_prediction\n",
    "make_prediction(df.iloc[:,:-1]) # remove stroke columns"
   ]
  },
  {
   "cell_type": "code",
   "execution_count": null,
   "id": "7f0d46c2",
   "metadata": {},
   "outputs": [],
   "source": []
  }
 ],
 "metadata": {
  "kernelspec": {
   "display_name": "Python 3 (ipykernel)",
   "language": "python",
   "name": "python3"
  },
  "language_info": {
   "codemirror_mode": {
    "name": "ipython",
    "version": 3
   },
   "file_extension": ".py",
   "mimetype": "text/x-python",
   "name": "python",
   "nbconvert_exporter": "python",
   "pygments_lexer": "ipython3",
   "version": "3.9.7"
  }
 },
 "nbformat": 4,
 "nbformat_minor": 5
}
