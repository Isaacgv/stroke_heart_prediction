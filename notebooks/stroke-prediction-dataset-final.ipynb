{
 "cells": [
  {
   "cell_type": "markdown",
   "id": "97d8aae5",
   "metadata": {},
   "source": [
    "### Import"
   ]
  },
  {
   "cell_type": "code",
   "execution_count": 2,
   "id": "44ef122f",
   "metadata": {},
   "outputs": [
    {
     "data": {
      "text/plain": [
       "Index(['id', 'firstname', ' lastname', ' dob', 'gender', 'age', 'hypertension',\n",
       "       'heart_disease', 'ever_married', 'work_type', 'Residence_type',\n",
       "       'avg_glucose_level', 'bmi', 'smoking_status'],\n",
       "      dtype='object')"
      ]
     },
     "execution_count": 2,
     "metadata": {},
     "output_type": "execute_result"
    }
   ],
   "source": [
    "import pandas as pd\n",
    "df = pd.read_csv(\"../data/healthcare-dataset-stroke-data.csv\")\n",
    "df_t=pd.read_csv(\"../data/stroke_prediction_test.csv\")\n",
    "df_t.columns"
   ]
  },
  {
   "cell_type": "code",
   "execution_count": 3,
   "id": "0da4b0f8",
   "metadata": {},
   "outputs": [
    {
     "data": {
      "text/plain": [
       "0.8329297820823245"
      ]
     },
     "execution_count": 3,
     "metadata": {},
     "output_type": "execute_result"
    }
   ],
   "source": [
    "from stroke_prediction import train\n",
    "\n",
    "train.make_model(df)"
   ]
  },
  {
   "cell_type": "code",
   "execution_count": 4,
   "id": "9dc1e421",
   "metadata": {},
   "outputs": [],
   "source": [
    "from stroke_prediction import inference\n",
    "import numpy as np"
   ]
  },
  {
   "cell_type": "code",
   "execution_count": 5,
   "id": "044380fb",
   "metadata": {},
   "outputs": [
    {
     "data": {
      "text/plain": [
       "(array([  12,   23,   24,   35,   44,   46,   72,   81,  104,  111,  143,\n",
       "         161,  162,  165,  182,  206,  209,  224,  234,  276,  296,  321,\n",
       "         329,  332,  345,  351,  360,  374,  416,  445,  452,  482,  491,\n",
       "         503,  507,  516,  519,  524,  549,  555,  556,  579,  586,  589,\n",
       "         602,  612,  614,  621,  634,  637,  652,  670,  698,  716,  729,\n",
       "         732,  757,  761,  772,  778,  784,  786,  790,  797,  800,  805,\n",
       "         821,  835,  837,  881,  888,  890,  891,  894,  906,  911,  921,\n",
       "        1002, 1010, 1033, 1048, 1054, 1079, 1122, 1174, 1186, 1194, 1196,\n",
       "        1208, 1219, 1247, 1249, 1263, 1294, 1339, 1365, 1374, 1377, 1378,\n",
       "        1382, 1386, 1402, 1408, 1417, 1431, 1469, 1473, 1476, 1486, 1505,\n",
       "        1511, 1513, 1532, 1539, 1551, 1562, 1573, 1580, 1615, 1639, 1671,\n",
       "        1679, 1681], dtype=int64),)"
      ]
     },
     "execution_count": 5,
     "metadata": {},
     "output_type": "execute_result"
    }
   ],
   "source": [
    "np.where(inference.make_prediction(df_t)==1)"
   ]
  },
  {
   "cell_type": "code",
   "execution_count": 6,
   "id": "f66346a9",
   "metadata": {},
   "outputs": [],
   "source": [
    "df_t[\"stroke\"]=inference.make_prediction(df_t)"
   ]
  },
  {
   "cell_type": "code",
   "execution_count": 7,
   "id": "aaf9b853",
   "metadata": {},
   "outputs": [
    {
     "data": {
      "text/plain": [
       "0    1564\n",
       "1     123\n",
       "Name: stroke, dtype: int64"
      ]
     },
     "execution_count": 7,
     "metadata": {},
     "output_type": "execute_result"
    }
   ],
   "source": [
    "df_t[\"stroke\"].value_counts()"
   ]
  },
  {
   "cell_type": "code",
   "execution_count": 8,
   "id": "d05c80cf",
   "metadata": {},
   "outputs": [
    {
     "data": {
      "text/html": [
       "<div>\n",
       "<style scoped>\n",
       "    .dataframe tbody tr th:only-of-type {\n",
       "        vertical-align: middle;\n",
       "    }\n",
       "\n",
       "    .dataframe tbody tr th {\n",
       "        vertical-align: top;\n",
       "    }\n",
       "\n",
       "    .dataframe thead th {\n",
       "        text-align: right;\n",
       "    }\n",
       "</style>\n",
       "<table border=\"1\" class=\"dataframe\">\n",
       "  <thead>\n",
       "    <tr style=\"text-align: right;\">\n",
       "      <th></th>\n",
       "      <th>id</th>\n",
       "      <th>firstname</th>\n",
       "      <th>lastname</th>\n",
       "      <th>dob</th>\n",
       "      <th>gender</th>\n",
       "      <th>age</th>\n",
       "      <th>hypertension</th>\n",
       "      <th>heart_disease</th>\n",
       "      <th>ever_married</th>\n",
       "      <th>work_type</th>\n",
       "      <th>Residence_type</th>\n",
       "      <th>avg_glucose_level</th>\n",
       "      <th>bmi</th>\n",
       "      <th>smoking_status</th>\n",
       "      <th>stroke</th>\n",
       "    </tr>\n",
       "  </thead>\n",
       "  <tbody>\n",
       "    <tr>\n",
       "      <th>1249</th>\n",
       "      <td>46670</td>\n",
       "      <td>Matthew</td>\n",
       "      <td>Gray</td>\n",
       "      <td>7/25/1957</td>\n",
       "      <td>Female</td>\n",
       "      <td>75.0</td>\n",
       "      <td>1</td>\n",
       "      <td>0</td>\n",
       "      <td>Yes</td>\n",
       "      <td>Self-employed</td>\n",
       "      <td>Rural</td>\n",
       "      <td>197.06</td>\n",
       "      <td>26.1</td>\n",
       "      <td>never smoked</td>\n",
       "      <td>1</td>\n",
       "    </tr>\n",
       "    <tr>\n",
       "      <th>351</th>\n",
       "      <td>42550</td>\n",
       "      <td>Mattie</td>\n",
       "      <td>Greer</td>\n",
       "      <td>11/8/1966</td>\n",
       "      <td>Female</td>\n",
       "      <td>81.0</td>\n",
       "      <td>0</td>\n",
       "      <td>0</td>\n",
       "      <td>Yes</td>\n",
       "      <td>Self-employed</td>\n",
       "      <td>Rural</td>\n",
       "      <td>246.34</td>\n",
       "      <td>21.1</td>\n",
       "      <td>never smoked</td>\n",
       "      <td>1</td>\n",
       "    </tr>\n",
       "    <tr>\n",
       "      <th>143</th>\n",
       "      <td>10416</td>\n",
       "      <td>Irene</td>\n",
       "      <td>Barker</td>\n",
       "      <td>11/5/1969</td>\n",
       "      <td>Male</td>\n",
       "      <td>71.0</td>\n",
       "      <td>0</td>\n",
       "      <td>1</td>\n",
       "      <td>Yes</td>\n",
       "      <td>Private</td>\n",
       "      <td>Urban</td>\n",
       "      <td>215.72</td>\n",
       "      <td>39.2</td>\n",
       "      <td>smokes</td>\n",
       "      <td>1</td>\n",
       "    </tr>\n",
       "    <tr>\n",
       "      <th>1551</th>\n",
       "      <td>19824</td>\n",
       "      <td>Isaiah</td>\n",
       "      <td>Sanders</td>\n",
       "      <td>8/26/1961</td>\n",
       "      <td>Male</td>\n",
       "      <td>76.0</td>\n",
       "      <td>1</td>\n",
       "      <td>0</td>\n",
       "      <td>Yes</td>\n",
       "      <td>Private</td>\n",
       "      <td>Rural</td>\n",
       "      <td>243.58</td>\n",
       "      <td>33.6</td>\n",
       "      <td>never smoked</td>\n",
       "      <td>1</td>\n",
       "    </tr>\n",
       "    <tr>\n",
       "      <th>360</th>\n",
       "      <td>68721</td>\n",
       "      <td>Carolyn</td>\n",
       "      <td>Sparks</td>\n",
       "      <td>7/5/1961</td>\n",
       "      <td>Female</td>\n",
       "      <td>78.0</td>\n",
       "      <td>0</td>\n",
       "      <td>0</td>\n",
       "      <td>Yes</td>\n",
       "      <td>Private</td>\n",
       "      <td>Rural</td>\n",
       "      <td>133.13</td>\n",
       "      <td>24.2</td>\n",
       "      <td>Unknown</td>\n",
       "      <td>1</td>\n",
       "    </tr>\n",
       "    <tr>\n",
       "      <th>...</th>\n",
       "      <td>...</td>\n",
       "      <td>...</td>\n",
       "      <td>...</td>\n",
       "      <td>...</td>\n",
       "      <td>...</td>\n",
       "      <td>...</td>\n",
       "      <td>...</td>\n",
       "      <td>...</td>\n",
       "      <td>...</td>\n",
       "      <td>...</td>\n",
       "      <td>...</td>\n",
       "      <td>...</td>\n",
       "      <td>...</td>\n",
       "      <td>...</td>\n",
       "      <td>...</td>\n",
       "    </tr>\n",
       "    <tr>\n",
       "      <th>577</th>\n",
       "      <td>37029</td>\n",
       "      <td>Isabelle</td>\n",
       "      <td>Hughes</td>\n",
       "      <td>11/7/1979</td>\n",
       "      <td>Male</td>\n",
       "      <td>5.0</td>\n",
       "      <td>0</td>\n",
       "      <td>0</td>\n",
       "      <td>No</td>\n",
       "      <td>children</td>\n",
       "      <td>Rural</td>\n",
       "      <td>97.64</td>\n",
       "      <td>17.0</td>\n",
       "      <td>Unknown</td>\n",
       "      <td>0</td>\n",
       "    </tr>\n",
       "    <tr>\n",
       "      <th>576</th>\n",
       "      <td>72882</td>\n",
       "      <td>Adele</td>\n",
       "      <td>Houston</td>\n",
       "      <td>8/16/1974</td>\n",
       "      <td>Male</td>\n",
       "      <td>47.0</td>\n",
       "      <td>0</td>\n",
       "      <td>0</td>\n",
       "      <td>Yes</td>\n",
       "      <td>Private</td>\n",
       "      <td>Rural</td>\n",
       "      <td>75.30</td>\n",
       "      <td>25.0</td>\n",
       "      <td>formerly smoked</td>\n",
       "      <td>0</td>\n",
       "    </tr>\n",
       "    <tr>\n",
       "      <th>575</th>\n",
       "      <td>49521</td>\n",
       "      <td>Wesley</td>\n",
       "      <td>Payne</td>\n",
       "      <td>2/28/1978</td>\n",
       "      <td>Female</td>\n",
       "      <td>33.0</td>\n",
       "      <td>0</td>\n",
       "      <td>0</td>\n",
       "      <td>Yes</td>\n",
       "      <td>Private</td>\n",
       "      <td>Urban</td>\n",
       "      <td>121.04</td>\n",
       "      <td>31.4</td>\n",
       "      <td>Unknown</td>\n",
       "      <td>0</td>\n",
       "    </tr>\n",
       "    <tr>\n",
       "      <th>574</th>\n",
       "      <td>21042</td>\n",
       "      <td>Emily</td>\n",
       "      <td>Sanchez</td>\n",
       "      <td>7/15/1964</td>\n",
       "      <td>Female</td>\n",
       "      <td>72.0</td>\n",
       "      <td>0</td>\n",
       "      <td>0</td>\n",
       "      <td>Yes</td>\n",
       "      <td>Self-employed</td>\n",
       "      <td>Rural</td>\n",
       "      <td>103.25</td>\n",
       "      <td>26.9</td>\n",
       "      <td>formerly smoked</td>\n",
       "      <td>0</td>\n",
       "    </tr>\n",
       "    <tr>\n",
       "      <th>1686</th>\n",
       "      <td>56233</td>\n",
       "      <td>Jesse</td>\n",
       "      <td>Leonard</td>\n",
       "      <td>3/26/1985</td>\n",
       "      <td>Female</td>\n",
       "      <td>44.0</td>\n",
       "      <td>0</td>\n",
       "      <td>0</td>\n",
       "      <td>No</td>\n",
       "      <td>Private</td>\n",
       "      <td>Rural</td>\n",
       "      <td>116.95</td>\n",
       "      <td>26.1</td>\n",
       "      <td>never smoked</td>\n",
       "      <td>0</td>\n",
       "    </tr>\n",
       "  </tbody>\n",
       "</table>\n",
       "<p>1687 rows × 15 columns</p>\n",
       "</div>"
      ],
      "text/plain": [
       "         id firstname  lastname        dob  gender   age  hypertension  \\\n",
       "1249  46670   Matthew      Gray  7/25/1957  Female  75.0             1   \n",
       "351   42550    Mattie     Greer  11/8/1966  Female  81.0             0   \n",
       "143   10416     Irene    Barker  11/5/1969    Male  71.0             0   \n",
       "1551  19824    Isaiah   Sanders  8/26/1961    Male  76.0             1   \n",
       "360   68721   Carolyn    Sparks   7/5/1961  Female  78.0             0   \n",
       "...     ...       ...       ...        ...     ...   ...           ...   \n",
       "577   37029  Isabelle    Hughes  11/7/1979    Male   5.0             0   \n",
       "576   72882     Adele   Houston  8/16/1974    Male  47.0             0   \n",
       "575   49521    Wesley     Payne  2/28/1978  Female  33.0             0   \n",
       "574   21042     Emily   Sanchez  7/15/1964  Female  72.0             0   \n",
       "1686  56233     Jesse   Leonard  3/26/1985  Female  44.0             0   \n",
       "\n",
       "      heart_disease ever_married      work_type Residence_type  \\\n",
       "1249              0          Yes  Self-employed          Rural   \n",
       "351               0          Yes  Self-employed          Rural   \n",
       "143               1          Yes        Private          Urban   \n",
       "1551              0          Yes        Private          Rural   \n",
       "360               0          Yes        Private          Rural   \n",
       "...             ...          ...            ...            ...   \n",
       "577               0           No       children          Rural   \n",
       "576               0          Yes        Private          Rural   \n",
       "575               0          Yes        Private          Urban   \n",
       "574               0          Yes  Self-employed          Rural   \n",
       "1686              0           No        Private          Rural   \n",
       "\n",
       "      avg_glucose_level   bmi   smoking_status  stroke  \n",
       "1249             197.06  26.1     never smoked       1  \n",
       "351              246.34  21.1     never smoked       1  \n",
       "143              215.72  39.2           smokes       1  \n",
       "1551             243.58  33.6     never smoked       1  \n",
       "360              133.13  24.2          Unknown       1  \n",
       "...                 ...   ...              ...     ...  \n",
       "577               97.64  17.0          Unknown       0  \n",
       "576               75.30  25.0  formerly smoked       0  \n",
       "575              121.04  31.4          Unknown       0  \n",
       "574              103.25  26.9  formerly smoked       0  \n",
       "1686             116.95  26.1     never smoked       0  \n",
       "\n",
       "[1687 rows x 15 columns]"
      ]
     },
     "execution_count": 8,
     "metadata": {},
     "output_type": "execute_result"
    }
   ],
   "source": [
    "df_t.sort_values(\"stroke\",ascending=False)"
   ]
  },
  {
   "cell_type": "code",
   "execution_count": 10,
   "id": "4c3bc3fe",
   "metadata": {},
   "outputs": [
    {
     "data": {
      "text/plain": [
       "array([0, 1], dtype=int64)"
      ]
     },
     "execution_count": 10,
     "metadata": {},
     "output_type": "execute_result"
    }
   ],
   "source": [
    "df_t[\"hypertension\"].unique()"
   ]
  }
 ],
 "metadata": {
  "kernelspec": {
   "display_name": "stroke",
   "language": "python",
   "name": "stroke"
  },
  "language_info": {
   "codemirror_mode": {
    "name": "ipython",
    "version": 3
   },
   "file_extension": ".py",
   "mimetype": "text/x-python",
   "name": "python",
   "nbconvert_exporter": "python",
   "pygments_lexer": "ipython3",
   "version": "3.9.0"
  }
 },
 "nbformat": 4,
 "nbformat_minor": 5
}
