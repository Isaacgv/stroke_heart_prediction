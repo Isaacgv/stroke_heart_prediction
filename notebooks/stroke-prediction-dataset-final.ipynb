{
 "cells": [
  {
   "cell_type": "markdown",
   "id": "97d8aae5",
   "metadata": {},
   "source": [
    "### Import"
   ]
  },
  {
   "cell_type": "code",
   "execution_count": 2,
   "id": "44ef122f",
   "metadata": {},
   "outputs": [
    {
     "data": {
      "text/plain": [
       "Index(['id', 'firstname', ' lastname', ' dob', 'gender', 'age', 'hypertension',\n",
       "       'heart_disease', 'ever_married', 'work_type', 'Residence_type',\n",
       "       'avg_glucose_level', 'bmi', 'smoking_status'],\n",
       "      dtype='object')"
      ]
     },
     "execution_count": 2,
     "metadata": {},
     "output_type": "execute_result"
    }
   ],
   "source": [
    "import pandas as pd\n",
    "df = pd.read_csv(\"../data/healthcare-dataset-stroke-data.csv\")\n",
    "df_t=pd.read_csv(\"../data/stroke_prediction_test.csv\")\n",
    "df_t.columns"
   ]
  },
  {
   "cell_type": "code",
   "execution_count": 3,
   "id": "0da4b0f8",
   "metadata": {},
   "outputs": [
    {
     "data": {
      "text/plain": [
       "0.8329297820823245"
      ]
     },
     "execution_count": 3,
     "metadata": {},
     "output_type": "execute_result"
    }
   ],
   "source": [
    "from stroke_prediction import train\n",
    "\n",
    "train.make_model(df)"
   ]
  },
  {
   "cell_type": "code",
   "execution_count": 4,
   "id": "9dc1e421",
   "metadata": {},
   "outputs": [],
   "source": [
    "from stroke_prediction import inference\n",
    "import numpy as np"
   ]
  },
  {
   "cell_type": "code",
   "execution_count": 5,
   "id": "044380fb",
   "metadata": {},
   "outputs": [
    {
     "data": {
      "text/plain": [
       "(array([  12,   23,   24,   35,   44,   46,   72,   81,  104,  111,  143,\n",
       "         161,  162,  165,  182,  206,  209,  224,  234,  276,  296,  321,\n",
       "         329,  332,  345,  351,  360,  374,  416,  445,  452,  482,  491,\n",
       "         503,  507,  516,  519,  524,  549,  555,  556,  579,  586,  589,\n",
       "         602,  612,  614,  621,  634,  637,  652,  670,  698,  716,  729,\n",
       "         732,  757,  761,  772,  778,  784,  786,  790,  797,  800,  805,\n",
       "         821,  835,  837,  881,  888,  890,  891,  894,  906,  911,  921,\n",
       "        1002, 1010, 1033, 1048, 1054, 1079, 1122, 1174, 1186, 1194, 1196,\n",
       "        1208, 1219, 1247, 1249, 1263, 1294, 1339, 1365, 1374, 1377, 1378,\n",
       "        1382, 1386, 1402, 1408, 1417, 1431, 1469, 1473, 1476, 1486, 1505,\n",
       "        1511, 1513, 1532, 1539, 1551, 1562, 1573, 1580, 1615, 1639, 1671,\n",
       "        1679, 1681], dtype=int64),)"
      ]
     },
     "execution_count": 5,
     "metadata": {},
     "output_type": "execute_result"
    }
   ],
   "source": [
    "np.where(inference.make_prediction(df_t)==1)"
   ]
  },
  {
   "cell_type": "code",
   "execution_count": 6,
   "id": "f66346a9",
   "metadata": {},
   "outputs": [],
   "source": [
    "df_t[\"stroke\"]=inference.make_prediction(df_t)"
   ]
  },
  {
   "cell_type": "code",
   "execution_count": 9,
   "id": "aaf9b853",
   "metadata": {},
   "outputs": [
    {
     "data": {
      "text/plain": [
       "0    1564\n",
       "1     123\n",
       "Name: stroke, dtype: int64"
      ]
     },
     "execution_count": 9,
     "metadata": {},
     "output_type": "execute_result"
    }
   ],
   "source": [
    "df_t[\"stroke\"].value_counts()"
   ]
  },
  {
   "cell_type": "code",
   "execution_count": null,
   "id": "d05c80cf",
   "metadata": {},
   "outputs": [],
   "source": [
    "df_t.sort_values(\"stroke\",ascending=False)"
   ]
  }
 ],
 "metadata": {
  "interpreter": {
   "hash": "4373f270b90ecccfda4fe2a21b65b360181de506de5f9021897b2095593032c4"
  },
  "kernelspec": {
   "display_name": "Python 3.9.10",
   "language": "python",
   "name": "python3"
  },
  "language_info": {
   "codemirror_mode": {
    "name": "ipython",
    "version": 3
   },
   "file_extension": ".py",
   "mimetype": "text/x-python",
   "name": "python",
   "nbconvert_exporter": "python",
   "pygments_lexer": "ipython3",
   "version": "3.9.10"
  }
 },
 "nbformat": 4,
 "nbformat_minor": 5
}
