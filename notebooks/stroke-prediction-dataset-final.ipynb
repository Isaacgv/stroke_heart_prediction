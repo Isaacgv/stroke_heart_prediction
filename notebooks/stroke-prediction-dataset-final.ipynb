{
 "cells": [
  {
   "cell_type": "markdown",
   "id": "97d8aae5",
   "metadata": {},
   "source": [
    "### Import"
   ]
  },
  {
   "cell_type": "code",
   "execution_count": 2,
   "id": "44ef122f",
   "metadata": {},
   "outputs": [],
   "source": [
    "import pandas as pd\n",
    "df = pd.read_csv(\"../data/healthcare-dataset-stroke-data.csv\")\n",
    "df_t=pd.read_csv(\"../data/stroke_dummy_test.csv\")"
   ]
  },
  {
   "cell_type": "code",
   "execution_count": 3,
   "id": "0da4b0f8",
   "metadata": {},
   "outputs": [
    {
     "data": {
      "text/plain": [
       "0.8329297820823245"
      ]
     },
     "execution_count": 3,
     "metadata": {},
     "output_type": "execute_result"
    }
   ],
   "source": [
    "from stroke_prediction import train\n",
    "\n",
    "train.make_model(df)"
   ]
  },
  {
   "cell_type": "code",
   "execution_count": 4,
   "id": "9dc1e421",
   "metadata": {},
   "outputs": [],
   "source": [
    "from stroke_prediction import inference"
   ]
  },
  {
   "cell_type": "code",
   "execution_count": 5,
   "id": "044380fb",
   "metadata": {},
   "outputs": [
    {
     "data": {
      "text/plain": [
       "array([0, 0, 0, ..., 0, 0, 0], dtype=int64)"
      ]
     },
     "execution_count": 5,
     "metadata": {},
     "output_type": "execute_result"
    }
   ],
   "source": [
    "inference.make_prediction(df_t)"
   ]
  },
  {
   "cell_type": "code",
   "execution_count": null,
   "id": "d05c80cf",
   "metadata": {},
   "outputs": [],
   "source": []
  }
 ],
 "metadata": {
  "kernelspec": {
   "display_name": "stroke",
   "language": "python",
   "name": "stroke"
  },
  "language_info": {
   "codemirror_mode": {
    "name": "ipython",
    "version": 3
   },
   "file_extension": ".py",
   "mimetype": "text/x-python",
   "name": "python",
   "nbconvert_exporter": "python",
   "pygments_lexer": "ipython3",
   "version": "3.9.0"
  }
 },
 "nbformat": 4,
 "nbformat_minor": 5
}
