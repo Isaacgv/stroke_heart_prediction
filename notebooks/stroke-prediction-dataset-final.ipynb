{
 "cells": [
  {
   "cell_type": "markdown",
   "id": "97d8aae5",
   "metadata": {},
   "source": [
    "### Import"
   ]
  },
  {
   "cell_type": "code",
   "execution_count": 5,
   "id": "44ef122f",
   "metadata": {},
   "outputs": [],
   "source": [
    "import pandas as pd\n",
    "df = pd.read_csv(\"../data/healthcare-dataset-stroke-data.csv\")"
   ]
  },
  {
   "cell_type": "code",
   "execution_count": 6,
   "id": "a3526e98",
   "metadata": {},
   "outputs": [
    {
     "ename": "ModuleNotFoundError",
     "evalue": "No module named 'stroke_prediction_packages'",
     "output_type": "error",
     "traceback": [
      "\u001b[0;31m---------------------------------------------------------------------------\u001b[0m",
      "\u001b[0;31mModuleNotFoundError\u001b[0m                       Traceback (most recent call last)",
      "\u001b[0;32m<ipython-input-6-439955281aeb>\u001b[0m in \u001b[0;36m<module>\u001b[0;34m\u001b[0m\n\u001b[0;32m----> 1\u001b[0;31m \u001b[0;32mfrom\u001b[0m \u001b[0mstroke_prediction_packages\u001b[0m \u001b[0;32mimport\u001b[0m \u001b[0mtrain\u001b[0m\u001b[0;34m\u001b[0m\u001b[0;34m\u001b[0m\u001b[0m\n\u001b[0m\u001b[1;32m      2\u001b[0m \u001b[0;34m\u001b[0m\u001b[0m\n\u001b[1;32m      3\u001b[0m \u001b[0mtrain\u001b[0m\u001b[0;34m.\u001b[0m\u001b[0mmake_model_train\u001b[0m\u001b[0;34m(\u001b[0m\u001b[0mdf\u001b[0m\u001b[0;34m)\u001b[0m\u001b[0;34m\u001b[0m\u001b[0;34m\u001b[0m\u001b[0m\n",
      "\u001b[0;31mModuleNotFoundError\u001b[0m: No module named 'stroke_prediction_packages'"
     ]
    }
   ],
   "source": [
    "from stroke_prediction_packages import train\n",
    "\n",
    "train.make_model_train(df)"
   ]
  },
  {
   "cell_type": "code",
   "execution_count": 7,
   "id": "9dc1e421",
   "metadata": {},
   "outputs": [
    {
     "ename": "ModuleNotFoundError",
     "evalue": "No module named 'stroke_prediction_packages'",
     "output_type": "error",
     "traceback": [
      "\u001b[0;31m---------------------------------------------------------------------------\u001b[0m",
      "\u001b[0;31mModuleNotFoundError\u001b[0m                       Traceback (most recent call last)",
      "\u001b[0;32m<ipython-input-7-6f33cfd03400>\u001b[0m in \u001b[0;36m<module>\u001b[0;34m\u001b[0m\n\u001b[0;32m----> 1\u001b[0;31m \u001b[0;32mfrom\u001b[0m \u001b[0mstroke_prediction_packages\u001b[0m \u001b[0;32mimport\u001b[0m \u001b[0mtest\u001b[0m\u001b[0;34m\u001b[0m\u001b[0;34m\u001b[0m\u001b[0m\n\u001b[0m",
      "\u001b[0;31mModuleNotFoundError\u001b[0m: No module named 'stroke_prediction_packages'"
     ]
    }
   ],
   "source": [
    "from stroke_prediction_packages import test"
   ]
  },
  {
   "cell_type": "code",
   "execution_count": 8,
   "id": "0da4b0f8",
   "metadata": {},
   "outputs": [],
   "source": [
    "df_test = pd.read_csv(\"../data/stroke_dummy_test.csv\")\n"
   ]
  },
  {
   "cell_type": "code",
   "execution_count": 9,
   "id": "151d9dc6",
   "metadata": {},
   "outputs": [],
   "source": [
    "a = {\"0\": {\"id\": 72231, \"gender\": \"Female\", \"age\": 47.0, \"hypertension\": 0, \"heart_disease\": 0, \"ever_married\": \"Yes\", \"work_type\": \"Self employed\", \"Residence_type\": \"Rural\", \"avg_glucose_level\": 195.61, \"bmi\": 0, \"smoking_status\": \"never smoked\", \"result\": 0}, \"1\": {\"id\": 56804, \"gender\": \"Female\", \"age\": 34.0, \"hypertension\": 0, \"heart_disease\": 0, \"ever_married\": \"No\", \"work_type\": \"Govt job\", \"Residence_type\": \"Urban\", \"avg_glucose_level\": 60.36, \"bmi\": 24.1, \"smoking_status\": \"never smoked\", \"result\": 0}, \"2\": {\"id\": 66174, \"gender\": \"Male\", \"age\": 46.0, \"hypertension\": 0, \"heart_disease\": 0, \"ever_married\": \"Yes\", \"work_type\": \"Self employed\", \"Residence_type\": \"Rural\", \"avg_glucose_level\": 88.19, \"bmi\": 29.3, \"smoking_status\": \"formerly smoked\", \"result\": 0}, \"3\": {\"id\": 53636, \"gender\": \"Female\", \"age\": 11.0, \"hypertension\": 0, \"heart_disease\": 0, \"ever_married\": \"No\", \"work_type\": \"Children\", \"Residence_type\": \"Urban\", \"avg_glucose_level\": 88.79, \"bmi\": 21.3, \"smoking_status\": \"never smoked\", \"result\": 0}, \"4\": {\"id\": 34356, \"gender\": \"Female\", \"age\": 75.0, \"hypertension\": 0, \"heart_disease\": 0, \"ever_married\": \"Yes\", \"work_type\": \"Private\", \"Residence_type\": \"Rural\", \"avg_glucose_level\": 108.72, \"bmi\": 29.2, \"smoking_status\": \"formerly smoked\", \"result\": 0}, \"5\": {\"id\": 55244, \"gender\": \"Male\", \"age\": 40.0, \"hypertension\": 0, \"heart_disease\": 0, \"ever_married\": \"Yes\", \"work_type\": \"Self employed\", \"Residence_type\": \"Rural\", \"avg_glucose_level\": 65.29, \"bmi\": 28.3, \"smoking_status\": \"never smoked\", \"result\": 0}}"
   ]
  },
  {
   "cell_type": "code",
   "execution_count": 10,
   "id": "314334a5",
   "metadata": {},
   "outputs": [
    {
     "data": {
      "text/html": [
       "<div>\n",
       "<style scoped>\n",
       "    .dataframe tbody tr th:only-of-type {\n",
       "        vertical-align: middle;\n",
       "    }\n",
       "\n",
       "    .dataframe tbody tr th {\n",
       "        vertical-align: top;\n",
       "    }\n",
       "\n",
       "    .dataframe thead th {\n",
       "        text-align: right;\n",
       "    }\n",
       "</style>\n",
       "<table border=\"1\" class=\"dataframe\">\n",
       "  <thead>\n",
       "    <tr style=\"text-align: right;\">\n",
       "      <th></th>\n",
       "      <th>id</th>\n",
       "      <th>gender</th>\n",
       "      <th>age</th>\n",
       "      <th>hypertension</th>\n",
       "      <th>heart_disease</th>\n",
       "      <th>ever_married</th>\n",
       "      <th>work_type</th>\n",
       "      <th>Residence_type</th>\n",
       "      <th>avg_glucose_level</th>\n",
       "      <th>bmi</th>\n",
       "      <th>smoking_status</th>\n",
       "      <th>result</th>\n",
       "    </tr>\n",
       "  </thead>\n",
       "  <tbody>\n",
       "    <tr>\n",
       "      <th>0</th>\n",
       "      <td>72231</td>\n",
       "      <td>Female</td>\n",
       "      <td>47.0</td>\n",
       "      <td>0</td>\n",
       "      <td>0</td>\n",
       "      <td>Yes</td>\n",
       "      <td>Self employed</td>\n",
       "      <td>Rural</td>\n",
       "      <td>195.61</td>\n",
       "      <td>0.0</td>\n",
       "      <td>never smoked</td>\n",
       "      <td>0</td>\n",
       "    </tr>\n",
       "    <tr>\n",
       "      <th>1</th>\n",
       "      <td>56804</td>\n",
       "      <td>Female</td>\n",
       "      <td>34.0</td>\n",
       "      <td>0</td>\n",
       "      <td>0</td>\n",
       "      <td>No</td>\n",
       "      <td>Govt job</td>\n",
       "      <td>Urban</td>\n",
       "      <td>60.36</td>\n",
       "      <td>24.1</td>\n",
       "      <td>never smoked</td>\n",
       "      <td>0</td>\n",
       "    </tr>\n",
       "    <tr>\n",
       "      <th>2</th>\n",
       "      <td>66174</td>\n",
       "      <td>Male</td>\n",
       "      <td>46.0</td>\n",
       "      <td>0</td>\n",
       "      <td>0</td>\n",
       "      <td>Yes</td>\n",
       "      <td>Self employed</td>\n",
       "      <td>Rural</td>\n",
       "      <td>88.19</td>\n",
       "      <td>29.3</td>\n",
       "      <td>formerly smoked</td>\n",
       "      <td>0</td>\n",
       "    </tr>\n",
       "    <tr>\n",
       "      <th>3</th>\n",
       "      <td>53636</td>\n",
       "      <td>Female</td>\n",
       "      <td>11.0</td>\n",
       "      <td>0</td>\n",
       "      <td>0</td>\n",
       "      <td>No</td>\n",
       "      <td>Children</td>\n",
       "      <td>Urban</td>\n",
       "      <td>88.79</td>\n",
       "      <td>21.3</td>\n",
       "      <td>never smoked</td>\n",
       "      <td>0</td>\n",
       "    </tr>\n",
       "    <tr>\n",
       "      <th>4</th>\n",
       "      <td>34356</td>\n",
       "      <td>Female</td>\n",
       "      <td>75.0</td>\n",
       "      <td>0</td>\n",
       "      <td>0</td>\n",
       "      <td>Yes</td>\n",
       "      <td>Private</td>\n",
       "      <td>Rural</td>\n",
       "      <td>108.72</td>\n",
       "      <td>29.2</td>\n",
       "      <td>formerly smoked</td>\n",
       "      <td>0</td>\n",
       "    </tr>\n",
       "    <tr>\n",
       "      <th>5</th>\n",
       "      <td>55244</td>\n",
       "      <td>Male</td>\n",
       "      <td>40.0</td>\n",
       "      <td>0</td>\n",
       "      <td>0</td>\n",
       "      <td>Yes</td>\n",
       "      <td>Self employed</td>\n",
       "      <td>Rural</td>\n",
       "      <td>65.29</td>\n",
       "      <td>28.3</td>\n",
       "      <td>never smoked</td>\n",
       "      <td>0</td>\n",
       "    </tr>\n",
       "  </tbody>\n",
       "</table>\n",
       "</div>"
      ],
      "text/plain": [
       "      id  gender   age  hypertension  heart_disease ever_married  \\\n",
       "0  72231  Female  47.0             0              0          Yes   \n",
       "1  56804  Female  34.0             0              0           No   \n",
       "2  66174    Male  46.0             0              0          Yes   \n",
       "3  53636  Female  11.0             0              0           No   \n",
       "4  34356  Female  75.0             0              0          Yes   \n",
       "5  55244    Male  40.0             0              0          Yes   \n",
       "\n",
       "       work_type Residence_type  avg_glucose_level   bmi   smoking_status  \\\n",
       "0  Self employed          Rural             195.61   0.0     never smoked   \n",
       "1       Govt job          Urban              60.36  24.1     never smoked   \n",
       "2  Self employed          Rural              88.19  29.3  formerly smoked   \n",
       "3       Children          Urban              88.79  21.3     never smoked   \n",
       "4        Private          Rural             108.72  29.2  formerly smoked   \n",
       "5  Self employed          Rural              65.29  28.3     never smoked   \n",
       "\n",
       "   result  \n",
       "0       0  \n",
       "1       0  \n",
       "2       0  \n",
       "3       0  \n",
       "4       0  \n",
       "5       0  "
      ]
     },
     "execution_count": 10,
     "metadata": {},
     "output_type": "execute_result"
    }
   ],
   "source": [
    "import pandas as pd\n",
    "pd.DataFrame.from_dict(a, orient ='index')"
   ]
  },
  {
   "cell_type": "code",
   "execution_count": null,
   "id": "0d48a361",
   "metadata": {},
   "outputs": [],
   "source": []
  }
 ],
 "metadata": {
  "kernelspec": {
   "display_name": "Python 3",
   "language": "python",
   "name": "python3"
  },
  "language_info": {
   "codemirror_mode": {
    "name": "ipython",
    "version": 3
   },
   "file_extension": ".py",
   "mimetype": "text/x-python",
   "name": "python",
   "nbconvert_exporter": "python",
   "pygments_lexer": "ipython3",
   "version": "3.8.10"
  }
 },
 "nbformat": 4,
 "nbformat_minor": 5
}
