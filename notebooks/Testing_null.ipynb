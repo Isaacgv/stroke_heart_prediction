{
 "cells": [
  {
   "cell_type": "code",
   "execution_count": 6,
   "id": "63c83536",
   "metadata": {},
   "outputs": [],
   "source": [
    "import pandas as pd\n",
    "from stroke_prediction import train, inference\n",
    "\n",
    "df_t = pd.read_csv(\"../data/healthcare-dataset-stroke-data.csv\")\n",
    "df = pd.read_csv(\"../data/test_data_null.csv\")"
   ]
  },
  {
   "cell_type": "code",
   "execution_count": 7,
   "id": "7997f140",
   "metadata": {},
   "outputs": [
    {
     "data": {
      "text/plain": [
       "0.8329297820823245"
      ]
     },
     "execution_count": 7,
     "metadata": {},
     "output_type": "execute_result"
    }
   ],
   "source": [
    "train.make_model(df_t)"
   ]
  },
  {
   "cell_type": "code",
   "execution_count": 8,
   "id": "31c1dd8f",
   "metadata": {},
   "outputs": [
    {
     "data": {
      "text/plain": [
       "array([0, 0, 0, ..., 0, 0, 0], dtype=int64)"
      ]
     },
     "execution_count": 8,
     "metadata": {},
     "output_type": "execute_result"
    }
   ],
   "source": [
    "inference.make_prediction(df)"
   ]
  },
  {
   "cell_type": "code",
   "execution_count": 37,
   "id": "e63622cc",
   "metadata": {},
   "outputs": [],
   "source": [
    "import numpy as np\n",
    "A = np.arange(0,569*3).reshape(569,3)\n",
    "B=np.arange(0,3)"
   ]
  },
  {
   "cell_type": "code",
   "execution_count": 38,
   "id": "4e8b6570",
   "metadata": {},
   "outputs": [],
   "source": [
    "B=B.reshape(1,3)"
   ]
  },
  {
   "cell_type": "code",
   "execution_count": 36,
   "id": "fa0fe337",
   "metadata": {},
   "outputs": [
    {
     "data": {
      "text/plain": [
       "array([[   0,    5,    8],\n",
       "       [   0,   20,   20],\n",
       "       [   0,   35,   32],\n",
       "       ...,\n",
       "       [   0, 8495, 6800],\n",
       "       [   0, 8510, 6812],\n",
       "       [   0, 8525, 6824]])"
      ]
     },
     "execution_count": 36,
     "metadata": {},
     "output_type": "execute_result"
    }
   ],
   "source": [
    "for i in range (A.shape[1]):\n",
    "    A[:,i] = A[:,i] * B[0,i]\n",
    "    \n",
    "\n"
   ]
  },
  {
   "cell_type": "code",
   "execution_count": 39,
   "id": "e6c69655",
   "metadata": {},
   "outputs": [
    {
     "data": {
      "text/plain": [
       "[array([[   0,    1,    2, ..., 1704, 1705, 1706],\n",
       "        [   0,    1,    2, ..., 1704, 1705, 1706],\n",
       "        [   0,    1,    2, ..., 1704, 1705, 1706]]),\n",
       " array([[0, 0, 0, ..., 0, 0, 0],\n",
       "        [1, 1, 1, ..., 1, 1, 1],\n",
       "        [2, 2, 2, ..., 2, 2, 2]])]"
      ]
     },
     "execution_count": 39,
     "metadata": {},
     "output_type": "execute_result"
    }
   ],
   "source": []
  },
  {
   "cell_type": "code",
   "execution_count": 34,
   "id": "71070072",
   "metadata": {},
   "outputs": [
    {
     "data": {
      "text/plain": [
       "1"
      ]
     },
     "execution_count": 34,
     "metadata": {},
     "output_type": "execute_result"
    }
   ],
   "source": [
    "\n",
    "B[0,1]"
   ]
  },
  {
   "cell_type": "code",
   "execution_count": null,
   "id": "829f0675",
   "metadata": {},
   "outputs": [],
   "source": []
  }
 ],
 "metadata": {
  "kernelspec": {
   "display_name": "stroke",
   "language": "python",
   "name": "stroke"
  },
  "language_info": {
   "codemirror_mode": {
    "name": "ipython",
    "version": 3
   },
   "file_extension": ".py",
   "mimetype": "text/x-python",
   "name": "python",
   "nbconvert_exporter": "python",
   "pygments_lexer": "ipython3",
   "version": "3.9.0"
  }
 },
 "nbformat": 4,
 "nbformat_minor": 5
}
